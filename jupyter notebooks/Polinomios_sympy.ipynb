{
 "cells": [
  {
   "cell_type": "markdown",
   "id": "5f3eb004-83f8-4172-9ffc-313b75468d2b",
   "metadata": {},
   "source": [
    "Importamos sympy, con el alias usual. Definimos un símbolo, lo definimos indicando con un string el como se vera la variable"
   ]
  },
  {
   "cell_type": "code",
   "execution_count": 1,
   "id": "6a6c3a9d-867c-48b4-ac2a-a627f5eb99ff",
   "metadata": {},
   "outputs": [],
   "source": [
    "import sympy as sp\n",
    "x =  sp.Symbol('x')"
   ]
  },
  {
   "cell_type": "markdown",
   "id": "c65b2963-129f-45ff-8d15-50a99624f483",
   "metadata": {},
   "source": [
    "Ahora podemos definir un polinomio de la manera siguiente"
   ]
  },
  {
   "cell_type": "code",
   "execution_count": 2,
   "id": "e866acf9-4c45-4179-ae51-c50dc008e340",
   "metadata": {},
   "outputs": [],
   "source": [
    "polinomio1 = x**2+8*x+15\n",
    "# no es necesario poner print para imprimir si estamos usando jupyter-notebook"
   ]
  },
  {
   "cell_type": "markdown",
   "id": "e4817daa-803e-478b-af55-be76e6adbc3c",
   "metadata": {},
   "source": [
    "Ahora, esto es totalmente opcional, si queremos tener un printing más hermoso. Si tenemos LaTeX instalado, podemos usar lo siguiente:"
   ]
  },
  {
   "cell_type": "code",
   "execution_count": 3,
   "id": "5c333b78-52e8-412c-b946-8ab94454cb6b",
   "metadata": {},
   "outputs": [
    {
     "data": {
      "image/png": "[encoded data removed]",
      "text/latex": [
       "$\\displaystyle x^{5} - 4 x + 5$"
      ],
      "text/plain": [
       " 5          \n",
       "x  - 4⋅x + 5"
      ]
     },
     "execution_count": 3,
     "metadata": {},
     "output_type": "execute_result"
    }
   ],
   "source": [
    "from sympy import init_printing\n",
    "\n",
    "init_printing() \n",
    "x**5-4*x+5"
   ]
  },
  {
   "cell_type": "markdown",
   "id": "573c5336-2da9-4a71-9576-ffa0b4161cec",
   "metadata": {},
   "source": [
    "Continuando: Si queremos factorizarlo podemos usar el método factor:"
   ]
  },
  {
   "cell_type": "code",
   "execution_count": 4,
   "id": "0692af93-55ce-4158-8069-c57dd8ec727e",
   "metadata": {},
   "outputs": [
    {
     "data": {
      "image/png": "[encoded data removed]",
      "text/latex": [
       "$\\displaystyle \\left(x + 3\\right) \\left(x + 5\\right)$"
      ],
      "text/plain": [
       "(x + 3)⋅(x + 5)"
      ]
     },
     "execution_count": 4,
     "metadata": {},
     "output_type": "execute_result"
    }
   ],
   "source": [
    "polinomio1.factor()"
   ]
  },
  {
   "cell_type": "markdown",
   "id": "5250697f-a9b6-4f0a-a833-bea5e783c0da",
   "metadata": {},
   "source": [
    "Si queremos simplificar el polinomio"
   ]
  },
  {
   "cell_type": "code",
   "execution_count": 5,
   "id": "8ec55656-5604-4a88-9331-64adaf679717",
   "metadata": {},
   "outputs": [
    {
     "data": {
      "image/png": "[encoded data removed]",
      "text/latex": [
       "$\\displaystyle x^{2} - 2 x - 3$"
      ],
      "text/plain": [
       " 2          \n",
       "x  - 2⋅x - 3"
      ]
     },
     "execution_count": 5,
     "metadata": {},
     "output_type": "execute_result"
    }
   ],
   "source": [
    "polinomio2 = (x**3 - 6*x**2 + 5*x + 12)/(x-4)\n",
    "polinomio2.simplify()"
   ]
  },
  {
   "cell_type": "markdown",
   "id": "8ae338d0-5c16-4cc5-9094-9f6d1cb5c89e",
   "metadata": {},
   "source": [
    "Si tenemos un producto y lo queremos desarrollar o expandir, usamos el método expand:"
   ]
  },
  {
   "cell_type": "code",
   "execution_count": 6,
   "id": "e485f6b1-eeea-4a23-9fa5-cd8faff487ed",
   "metadata": {},
   "outputs": [
    {
     "data": {
      "image/png": "[encoded data removed]",
      "text/latex": [
       "$\\displaystyle 2 x^{3} - 87 x^{2} - 560 x + 1029$"
      ],
      "text/plain": [
       "   3       2               \n",
       "2⋅x  - 87⋅x  - 560⋅x + 1029"
      ]
     },
     "execution_count": 6,
     "metadata": {},
     "output_type": "execute_result"
    }
   ],
   "source": [
    "polinomio3=(x+7)*(x-49)*(2*x-3)\n",
    "polinomio3.expand()"
   ]
  },
  {
   "cell_type": "markdown",
   "id": "58b2d7be-836d-44c0-8483-4c5619dd9492",
   "metadata": {},
   "source": [
    "También podemos evaluar un polinomio, por ejemplo en x=1, con el método subs (de sustituir)"
   ]
  },
  {
   "cell_type": "code",
   "execution_count": 7,
   "id": "c9888e44-234f-4eca-af2d-5ed2010fc769",
   "metadata": {},
   "outputs": [
    {
     "data": {
      "image/png": "[encoded data removed]",
      "text/latex": [
       "$\\displaystyle 384$"
      ],
      "text/plain": [
       "384"
      ]
     },
     "execution_count": 7,
     "metadata": {},
     "output_type": "execute_result"
    }
   ],
   "source": [
    "polinomio3.subs(x,1)"
   ]
  }
 ],
 "metadata": {
  "kernelspec": {
   "display_name": "Python 3 (ipykernel)",
   "language": "python",
   "name": "python3"
  },
  "language_info": {
   "codemirror_mode": {
    "name": "ipython",
    "version": 3
   },
   "file_extension": ".py",
   "mimetype": "text/x-python",
   "name": "python",
   "nbconvert_exporter": "python",
   "pygments_lexer": "ipython3",
   "version": "3.13.2"
  }
 },
 "nbformat": 4,
 "nbformat_minor": 5
}
